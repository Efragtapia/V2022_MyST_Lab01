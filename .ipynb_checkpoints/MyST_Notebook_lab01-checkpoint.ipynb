{
 "cells": [
  {
   "cell_type": "markdown",
   "metadata": {},
   "source": [
    "<center><font color=#555555><font size=6> MyST Lab 01 </font> <br> <br>\n",
    "    \n",
    "<center><font color=#555555><font size=5> Laboratorio 01</font> <br> <br> <br> <br>\n",
    "\n",
    "<center><font color=#555555><font size=6> EFRAIN GÓMEZ TAPIA </font> <br> <br>\n",
    "   \n",
    "<center> <font color= #555555> <font size = 4> Junio,2022</a> | <font color= #555555> <font size = 4> Repository: <a href='https://github.com/'>https://github.com/Efragtapia/V2022_MyST_Lab01</a></font>"
   ]
  },
  {
   "cell_type": "markdown",
   "metadata": {},
   "source": [
    "<hr style=\"border:0.02in solid gray\"> </hr>"
   ]
  },
  {
   "cell_type": "markdown",
   "metadata": {},
   "source": [
    "<center> <font color= #555555> <font size = 6> Microestructuras y Sistemas de Trading </font> <br> <br> <font color= #555555> <font size = 5> Laboratorio 01</font>"
   ]
  },
  {
   "cell_type": "markdown",
   "metadata": {},
   "source": [
    "<hr style=\"border:0.02in solid gray\"> </hr>"
   ]
  },
  {
   "cell_type": "markdown",
   "metadata": {},
   "source": [
    "<br>"
   ]
  },
  {
   "cell_type": "markdown",
   "metadata": {},
   "source": [
    "<font color= #555555> <font size = 4> Abstract </font>"
   ]
  },
  {
   "cell_type": "markdown",
   "metadata": {},
   "source": [
    "<font color= #6B6B6B> <font size = 3>  En este laboratorio podemos observar el comportamiento de los libros de órdenes así como de los trades públicos, y podemos ver métricas sobre los mismos para entender a fondo su comportamiento. </font>"
   ]
  },
  {
   "cell_type": "markdown",
   "metadata": {},
   "source": [
    "<br>"
   ]
  },
  {
   "cell_type": "markdown",
   "metadata": {},
   "source": [
    "# <font color= #6B6B6B> <font size = 6> 1. Introduction </font>"
   ]
  },
  {
   "cell_type": "markdown",
   "metadata": {},
   "source": [
    "<hr style=\"border:0.02in solid gray\"> </hr>"
   ]
  },
  {
   "cell_type": "markdown",
   "metadata": {},
   "source": [
    "Se podrán observar métricas como la cantidad de transacciones que se realizaron, el volumen, sus discrepancias, etc. \n"
   ]
  },
  {
   "cell_type": "markdown",
   "metadata": {},
   "source": [
    "<br>"
   ]
  },
  {
   "cell_type": "markdown",
   "metadata": {},
   "source": [
    "# <font color= #6B6B6B> 2. Install/Load Packages and Depedencies </font>"
   ]
  },
  {
   "cell_type": "markdown",
   "metadata": {},
   "source": [
    "<hr style=\"border:0.02in solid gray\"> </hr>"
   ]
  },
  {
   "cell_type": "markdown",
   "metadata": {},
   "source": [
    "## <font color= #6B6B6B> 2.1 Python Packages </font> <font color= #555555>"
   ]
  },
  {
   "cell_type": "markdown",
   "metadata": {},
   "source": [
    "In order to run this notebook, it is necessary to have installed and/or have the _requirements.txt_ file with the following: "
   ]
  },
  {
   "cell_type": "markdown",
   "metadata": {},
   "source": [
    "- pandas>=1.1.0\n",
    "- numpy>=1.19.1\n",
    "- jupyter>=1.0.0\n",
    "- chart_studio>=1.1\n",
    "- plotly>=4.14\n",
    "- ipykernel\n"
   ]
  },
  {
   "cell_type": "markdown",
   "metadata": {},
   "source": [
    "## <font color= #6B6B6B> 2.2 Files Dependencies </font> <font color= #555555>"
   ]
  },
  {
   "cell_type": "markdown",
   "metadata": {},
   "source": [
    "The following are the file dependencies that are needed to run this notebook:"
   ]
  },
  {
   "cell_type": "markdown",
   "metadata": {},
   "source": [
    "- btcusdt_binance.csv : Public Trades\n",
    "- orderbooks_05jul21.json : Order Books"
   ]
  },
  {
   "cell_type": "markdown",
   "metadata": {},
   "source": [
    "## <font color= #6E6E6E> 2.3 Install Packages</font>"
   ]
  },
  {
   "cell_type": "code",
   "execution_count": 13,
   "metadata": {},
   "outputs": [],
   "source": [
    "import data as dt\n",
    "import pandas as pd \n",
    "import functions as fun \n",
    "import functions2 as fun2 \n",
    "import visualization as vi\n",
    "import json "
   ]
  },
  {
   "cell_type": "code",
   "execution_count": 3,
   "metadata": {},
   "outputs": [],
   "source": [
    "%%capture\n",
    "\n",
    "# Install all the pip packages in the requirements.txt\n",
    "import sys\n",
    "!{sys.executable} -m pip install -r requirements.txt"
   ]
  },
  {
   "cell_type": "markdown",
   "metadata": {},
   "source": [
    "<br>"
   ]
  },
  {
   "cell_type": "markdown",
   "metadata": {},
   "source": [
    "# <font color= #6B6B6B> 3. Data Description </font>"
   ]
  },
  {
   "cell_type": "markdown",
   "metadata": {},
   "source": [
    "<hr style=\"border:0.02in solid gray\"> </hr>"
   ]
  },
  {
   "cell_type": "code",
   "execution_count": null,
   "metadata": {},
   "outputs": [],
   "source": [
    "# DELETE THIS CELL IN YOUR FILE\n",
    "\n",
    "# Here you include content from data conceptual, statistical and visual description"
   ]
  },
  {
   "cell_type": "code",
   "execution_count": 17,
   "metadata": {},
   "outputs": [
    {
     "data": {
      "text/html": [
       "<div>\n",
       "<style scoped>\n",
       "    .dataframe tbody tr th:only-of-type {\n",
       "        vertical-align: middle;\n",
       "    }\n",
       "\n",
       "    .dataframe tbody tr th {\n",
       "        vertical-align: top;\n",
       "    }\n",
       "\n",
       "    .dataframe thead th {\n",
       "        text-align: right;\n",
       "    }\n",
       "</style>\n",
       "<table border=\"1\" class=\"dataframe\">\n",
       "  <thead>\n",
       "    <tr style=\"text-align: right;\">\n",
       "      <th></th>\n",
       "      <th>0</th>\n",
       "      <th>1</th>\n",
       "    </tr>\n",
       "  </thead>\n",
       "  <tbody>\n",
       "    <tr>\n",
       "      <th>0</th>\n",
       "      <td>2021-07-05T13:06:46.571Z</td>\n",
       "      <td>bid_size      bid      ask  ask_size\n",
       "0   ...</td>\n",
       "    </tr>\n",
       "    <tr>\n",
       "      <th>1</th>\n",
       "      <td>2021-07-05T13:06:47.918Z</td>\n",
       "      <td>bid_size      bid      ask  ask_size\n",
       "0   ...</td>\n",
       "    </tr>\n",
       "    <tr>\n",
       "      <th>2</th>\n",
       "      <td>2021-07-05T13:06:49.414Z</td>\n",
       "      <td>bid_size      bid      ask  ask_size\n",
       "0   ...</td>\n",
       "    </tr>\n",
       "    <tr>\n",
       "      <th>3</th>\n",
       "      <td>2021-07-05T13:06:51.077Z</td>\n",
       "      <td>bid_size      bid      ask  ask_size\n",
       "0   ...</td>\n",
       "    </tr>\n",
       "    <tr>\n",
       "      <th>4</th>\n",
       "      <td>2021-07-05T13:06:52.426Z</td>\n",
       "      <td>bid_size      bid      ask  ask_size\n",
       "0   ...</td>\n",
       "    </tr>\n",
       "  </tbody>\n",
       "</table>\n",
       "</div>"
      ],
      "text/plain": [
       "                          0                                                  1\n",
       "0  2021-07-05T13:06:46.571Z       bid_size      bid      ask  ask_size\n",
       "0   ...\n",
       "1  2021-07-05T13:06:47.918Z       bid_size      bid      ask  ask_size\n",
       "0   ...\n",
       "2  2021-07-05T13:06:49.414Z       bid_size      bid      ask  ask_size\n",
       "0   ...\n",
       "3  2021-07-05T13:06:51.077Z       bid_size      bid      ask  ask_size\n",
       "0   ...\n",
       "4  2021-07-05T13:06:52.426Z       bid_size      bid      ask  ask_size\n",
       "0   ..."
      ]
     },
     "execution_count": 17,
     "metadata": {},
     "output_type": "execute_result"
    }
   ],
   "source": [
    "data_ob=dt.ob_data\n",
    "\n",
    "data_items = data_ob.items()\n",
    "data_list = list(data_items)\n",
    "df_ob= pd.DataFrame(data_list) \n",
    "df_ob.head()\n"
   ]
  },
  {
   "cell_type": "code",
   "execution_count": 7,
   "metadata": {},
   "outputs": [
    {
     "data": {
      "text/html": [
       "<div>\n",
       "<style scoped>\n",
       "    .dataframe tbody tr th:only-of-type {\n",
       "        vertical-align: middle;\n",
       "    }\n",
       "\n",
       "    .dataframe tbody tr th {\n",
       "        vertical-align: top;\n",
       "    }\n",
       "\n",
       "    .dataframe thead th {\n",
       "        text-align: right;\n",
       "    }\n",
       "</style>\n",
       "<table border=\"1\" class=\"dataframe\">\n",
       "  <thead>\n",
       "    <tr style=\"text-align: right;\">\n",
       "      <th></th>\n",
       "      <th>Unnamed: 0</th>\n",
       "      <th>timestamp</th>\n",
       "      <th>price</th>\n",
       "      <th>amount</th>\n",
       "      <th>side</th>\n",
       "    </tr>\n",
       "  </thead>\n",
       "  <tbody>\n",
       "    <tr>\n",
       "      <th>0</th>\n",
       "      <td>0</td>\n",
       "      <td>2022-05-10 08:08:07</td>\n",
       "      <td>31702.47</td>\n",
       "      <td>0.00035</td>\n",
       "      <td>sell</td>\n",
       "    </tr>\n",
       "    <tr>\n",
       "      <th>1</th>\n",
       "      <td>1</td>\n",
       "      <td>2022-05-10 08:08:07</td>\n",
       "      <td>31702.48</td>\n",
       "      <td>0.00263</td>\n",
       "      <td>buy</td>\n",
       "    </tr>\n",
       "    <tr>\n",
       "      <th>2</th>\n",
       "      <td>2</td>\n",
       "      <td>2022-05-10 08:08:07</td>\n",
       "      <td>31702.48</td>\n",
       "      <td>0.00631</td>\n",
       "      <td>buy</td>\n",
       "    </tr>\n",
       "    <tr>\n",
       "      <th>3</th>\n",
       "      <td>3</td>\n",
       "      <td>2022-05-10 08:08:07</td>\n",
       "      <td>31702.48</td>\n",
       "      <td>0.00264</td>\n",
       "      <td>buy</td>\n",
       "    </tr>\n",
       "    <tr>\n",
       "      <th>4</th>\n",
       "      <td>4</td>\n",
       "      <td>2022-05-10 08:08:07</td>\n",
       "      <td>31702.48</td>\n",
       "      <td>0.01146</td>\n",
       "      <td>buy</td>\n",
       "    </tr>\n",
       "  </tbody>\n",
       "</table>\n",
       "</div>"
      ],
      "text/plain": [
       "   Unnamed: 0            timestamp     price   amount  side\n",
       "0           0  2022-05-10 08:08:07  31702.47  0.00035  sell\n",
       "1           1  2022-05-10 08:08:07  31702.48  0.00263   buy\n",
       "2           2  2022-05-10 08:08:07  31702.48  0.00631   buy\n",
       "3           3  2022-05-10 08:08:07  31702.48  0.00264   buy\n",
       "4           4  2022-05-10 08:08:07  31702.48  0.01146   buy"
      ]
     },
     "execution_count": 7,
     "metadata": {},
     "output_type": "execute_result"
    }
   ],
   "source": [
    "pt_data=dt.pt_data\n",
    "pt_data.head()"
   ]
  },
  {
   "cell_type": "markdown",
   "metadata": {},
   "source": [
    "<br>"
   ]
  },
  {
   "cell_type": "markdown",
   "metadata": {},
   "source": [
    "# <font color= #6B6B6B> <font size = 6> 4. Results </font>"
   ]
  },
  {
   "cell_type": "markdown",
   "metadata": {},
   "source": [
    "<hr style=\"border:0.02in solid gray\"> </hr>"
   ]
  },
  {
   "cell_type": "code",
   "execution_count": 6,
   "metadata": {},
   "outputs": [],
   "source": [
    "data_ob=dt.ob_data\n",
    "pt_data=dt.pt_data\n",
    "OBook=fun.f_descriptive_ob(data_ob=data_ob)"
   ]
  },
  {
   "cell_type": "markdown",
   "metadata": {},
   "source": [
    "<br>"
   ]
  },
  {
   "cell_type": "markdown",
   "metadata": {},
   "source": [
    "## <font color= #6B6B6B> 5.1 Results of first processes </font>"
   ]
  },
  {
   "cell_type": "code",
   "execution_count": 8,
   "metadata": {},
   "outputs": [
    {
     "name": "stdout",
     "output_type": "stream",
     "text": [
      "Median Time Of Orderbook:0 days 00:00:01.500000\n"
     ]
    }
   ],
   "source": [
    "metric = OBook['median_ts_ob']\n",
    "print(f\"Median Time Of Orderbook:{metric}\")\n"
   ]
  },
  {
   "cell_type": "code",
   "execution_count": 9,
   "metadata": {},
   "outputs": [
    {
     "name": "stdout",
     "output_type": "stream",
     "text": [
      "Spread:        0\n",
      "0     5.0\n",
      "1     5.0\n",
      "2     5.0\n",
      "3     3.0\n",
      "4     3.0\n",
      "...   ...\n",
      "2396  7.0\n",
      "2397  7.0\n",
      "2398  7.0\n",
      "2399  5.0\n",
      "2400  5.0\n",
      "\n",
      "[2401 rows x 1 columns]\n"
     ]
    }
   ],
   "source": [
    "metric2 = pd.DataFrame(OBook['Spread'])\n",
    "print(f\"Spread:{metric2}\")"
   ]
  },
  {
   "cell_type": "code",
   "execution_count": 10,
   "metadata": {},
   "outputs": [
    {
     "name": "stdout",
     "output_type": "stream",
     "text": [
      "Midprice:            0\n",
      "0     42410.0\n",
      "1     42410.0\n",
      "2     42410.0\n",
      "3     42415.5\n",
      "4     42415.5\n",
      "...       ...\n",
      "2396  42539.5\n",
      "2397  42539.5\n",
      "2398  42539.5\n",
      "2399  42536.0\n",
      "2400  42536.0\n",
      "\n",
      "[2401 rows x 1 columns]\n"
     ]
    }
   ],
   "source": [
    "metric3 = pd.DataFrame(OBook['Midprice'])\n",
    "print(f\"Midprice:{metric3}\")"
   ]
  },
  {
   "cell_type": "code",
   "execution_count": 11,
   "metadata": {},
   "outputs": [
    {
     "name": "stdout",
     "output_type": "stream",
     "text": [
      "No. of price levels:       0\n",
      "0     25\n",
      "1     25\n",
      "2     25\n",
      "3     25\n",
      "4     25\n",
      "...   ..\n",
      "2396  25\n",
      "2397  25\n",
      "2398  25\n",
      "2399  25\n",
      "2400  25\n",
      "\n",
      "[2401 rows x 1 columns]\n"
     ]
    }
   ],
   "source": [
    "metric4 = pd.DataFrame(OBook['No_price_levels'])\n",
    "print(f\"No. of price levels:{metric4}\")"
   ]
  },
  {
   "cell_type": "code",
   "execution_count": 12,
   "metadata": {},
   "outputs": [
    {
     "name": "stdout",
     "output_type": "stream",
     "text": [
      "Bid Volume:              0\n",
      "0     32.100178\n",
      "1     32.100178\n",
      "2     32.100178\n",
      "3     36.263315\n",
      "4     36.263315\n",
      "...         ...\n",
      "2396  19.984121\n",
      "2397  19.984121\n",
      "2398  19.984121\n",
      "2399  18.140884\n",
      "2400  18.140884\n",
      "\n",
      "[2401 rows x 1 columns]\n"
     ]
    }
   ],
   "source": [
    "metric5 = pd.DataFrame(OBook['Bid_Volume'])\n",
    "print(f\"Bid Volume:{metric5}\")\n"
   ]
  },
  {
   "cell_type": "code",
   "execution_count": 13,
   "metadata": {},
   "outputs": [
    {
     "name": "stdout",
     "output_type": "stream",
     "text": [
      "Ask Volume:              0\n",
      "0     31.699457\n",
      "1     31.699457\n",
      "2     31.699457\n",
      "3     36.929183\n",
      "4     36.929183\n",
      "...         ...\n",
      "2396  23.940057\n",
      "2397  23.940057\n",
      "2398  23.940057\n",
      "2399  22.614192\n",
      "2400  22.614192\n",
      "\n",
      "[2401 rows x 1 columns]\n"
     ]
    }
   ],
   "source": [
    "metric6 = pd.DataFrame(OBook['Ask_Volume'])\n",
    "print(f\"Ask Volume:{metric6}\")"
   ]
  },
  {
   "cell_type": "code",
   "execution_count": 14,
   "metadata": {},
   "outputs": [
    {
     "name": "stdout",
     "output_type": "stream",
     "text": [
      "Total volume:              0\n",
      "0     63.799634\n",
      "1     63.799634\n",
      "2     63.799634\n",
      "3     73.192497\n",
      "4     73.192497\n",
      "...         ...\n",
      "2396  43.924178\n",
      "2397  43.924178\n",
      "2398  43.924178\n",
      "2399  40.755075\n",
      "2400  40.755075\n",
      "\n",
      "[2401 rows x 1 columns]\n"
     ]
    }
   ],
   "source": [
    "metric7 = pd.DataFrame(OBook['Total_Volume'])\n",
    "print(f\"Total volume:{metric7}\")"
   ]
  },
  {
   "cell_type": "code",
   "execution_count": 15,
   "metadata": {},
   "outputs": [
    {
     "name": "stdout",
     "output_type": "stream",
     "text": [
      "Imbalance:             0\n",
      "0     0.509527\n",
      "1     0.509527\n",
      "2     0.509527\n",
      "3     0.496758\n",
      "4     0.496758\n",
      "...        ...\n",
      "2396  0.434437\n",
      "2397  0.434437\n",
      "2398  0.434437\n",
      "2399  0.431926\n",
      "2400  0.431926\n",
      "\n",
      "[2401 rows x 1 columns]\n"
     ]
    }
   ],
   "source": [
    "metric8 = pd.DataFrame(OBook['Imbalance'])\n",
    "print(f\"Imbalance:{metric8}\")"
   ]
  },
  {
   "cell_type": "code",
   "execution_count": 16,
   "metadata": {},
   "outputs": [
    {
     "name": "stdout",
     "output_type": "stream",
     "text": [
      "w-Midprice:                 0\n",
      "0     21609.024587\n",
      "1     21609.024587\n",
      "2     21609.024587\n",
      "3     21070.227909\n",
      "4     21070.227909\n",
      "...            ...\n",
      "2396  18480.750332\n",
      "2397  18480.750332\n",
      "2398  18480.750332\n",
      "2399  18372.396234\n",
      "2400  18372.396234\n",
      "\n",
      "[2401 rows x 1 columns]\n"
     ]
    }
   ],
   "source": [
    "metric9 = pd.DataFrame(OBook['W-Midprice'])\n",
    "print(f\"w-Midprice:{metric9}\")"
   ]
  },
  {
   "cell_type": "code",
   "execution_count": 17,
   "metadata": {},
   "outputs": [
    {
     "name": "stdout",
     "output_type": "stream",
     "text": [
      "V-WAP:                0             1             2             3             4   \\\n",
      "0     3.081706e+09  3.080794e+09  3.080951e+09  2.987885e+09  2.983968e+09   \n",
      "1     3.081706e+09  3.080794e+09  3.080951e+09  2.987885e+09  2.983968e+09   \n",
      "2     3.081706e+09  3.080794e+09  3.080951e+09  2.987885e+09  2.983968e+09   \n",
      "3     1.895604e+09  2.644957e+09  2.644596e+09  2.645109e+09  2.536687e+09   \n",
      "4     1.895604e+09  2.644957e+09  2.644596e+09  2.645109e+09  2.536687e+09   \n",
      "...            ...           ...           ...           ...           ...   \n",
      "2396  4.079775e+09  4.004742e+09  4.079741e+09  4.078060e+09  4.041297e+09   \n",
      "2397  4.079775e+09  4.004742e+09  4.079741e+09  4.078060e+09  4.041297e+09   \n",
      "2398  4.079775e+09  4.004742e+09  4.079741e+09  4.078060e+09  4.041297e+09   \n",
      "2399  4.318381e+09  4.317952e+09  4.317737e+09  4.206246e+09  3.992842e+09   \n",
      "2400  4.318381e+09  4.317952e+09  4.317737e+09  4.206246e+09  3.992842e+09   \n",
      "\n",
      "                5             6             7             8             9   \\\n",
      "0     2.972075e+09  3.068799e+09  3.058108e+09  2.992341e+09  3.035588e+09   \n",
      "1     2.972075e+09  3.068799e+09  3.058108e+09  2.992341e+09  3.035588e+09   \n",
      "2     2.972075e+09  3.068799e+09  3.058108e+09  2.992341e+09  3.035588e+09   \n",
      "3     2.509362e+09  2.554743e+09  2.635779e+09  2.603306e+09  2.631902e+09   \n",
      "4     2.509362e+09  2.554743e+09  2.635779e+09  2.603306e+09  2.631902e+09   \n",
      "...            ...           ...           ...           ...           ...   \n",
      "2396  3.740505e+09  3.787558e+09  3.981757e+09  3.974292e+09  3.573793e+09   \n",
      "2397  3.740505e+09  3.787558e+09  3.981757e+09  3.974292e+09  3.573793e+09   \n",
      "2398  3.740505e+09  3.787558e+09  3.981757e+09  3.974292e+09  3.573793e+09   \n",
      "2399  4.275826e+09  4.175050e+09  4.211685e+09  3.705686e+09  4.310770e+09   \n",
      "2400  4.275826e+09  4.175050e+09  4.211685e+09  3.705686e+09  4.310770e+09   \n",
      "\n",
      "      ...            15            16            17            18  \\\n",
      "0     ...  3.071629e+09  3.014371e+09  2.947189e+09  2.943395e+09   \n",
      "1     ...  3.071629e+09  3.014371e+09  2.947189e+09  2.943395e+09   \n",
      "2     ...  3.071629e+09  3.014371e+09  2.947189e+09  2.943395e+09   \n",
      "3     ...  2.608491e+09  2.581592e+09  2.542754e+09  2.586593e+09   \n",
      "4     ...  2.608491e+09  2.581592e+09  2.542754e+09  2.586593e+09   \n",
      "...   ...           ...           ...           ...           ...   \n",
      "2396  ...  4.019682e+09  3.845981e+09  3.934828e+09  4.061909e+09   \n",
      "2397  ...  4.019682e+09  3.845981e+09  3.934828e+09  4.061909e+09   \n",
      "2398  ...  4.019682e+09  3.845981e+09  3.934828e+09  4.061909e+09   \n",
      "2399  ...  4.118498e+09  4.119596e+09  4.161722e+09  4.298904e+09   \n",
      "2400  ...  4.118498e+09  4.119596e+09  4.161722e+09  4.298904e+09   \n",
      "\n",
      "                19            20            21            22            23  \\\n",
      "0     3.080773e+09  2.830881e+09  3.009903e+09  3.015369e+09  3.045495e+09   \n",
      "1     3.080773e+09  2.830881e+09  3.009903e+09  3.015369e+09  3.045495e+09   \n",
      "2     3.080773e+09  2.830881e+09  3.009903e+09  3.015369e+09  3.045495e+09   \n",
      "3     2.607304e+09  2.637894e+09  2.617053e+09  2.597548e+09  2.627711e+09   \n",
      "4     2.607304e+09  2.637894e+09  2.617053e+09  2.597548e+09  2.627711e+09   \n",
      "...            ...           ...           ...           ...           ...   \n",
      "2396  3.693169e+09  4.080175e+09  3.949653e+09  4.063570e+09  3.988041e+09   \n",
      "2397  3.693169e+09  4.080175e+09  3.949653e+09  4.063570e+09  3.988041e+09   \n",
      "2398  3.693169e+09  4.080175e+09  3.949653e+09  4.063570e+09  3.988041e+09   \n",
      "2399  3.935585e+09  4.319368e+09  4.250002e+09  4.301897e+09  4.140821e+09   \n",
      "2400  3.935585e+09  4.319368e+09  4.250002e+09  4.301897e+09  4.140821e+09   \n",
      "\n",
      "                24  \n",
      "0     3.080773e+09  \n",
      "1     3.080773e+09  \n",
      "2     3.080773e+09  \n",
      "3     2.312162e+09  \n",
      "4     2.312162e+09  \n",
      "...            ...  \n",
      "2396  4.025135e+09  \n",
      "2397  4.025135e+09  \n",
      "2398  4.025135e+09  \n",
      "2399  4.189917e+09  \n",
      "2400  4.189917e+09  \n",
      "\n",
      "[2401 rows x 25 columns]\n"
     ]
    }
   ],
   "source": [
    "metric10 = pd.DataFrame(OBook['V-WAP'])\n",
    "print(f\"V-WAP:{metric10}\")"
   ]
  },
  {
   "cell_type": "code",
   "execution_count": null,
   "metadata": {},
   "outputs": [],
   "source": [
    "plot_3 = vi.plot_lines(data_x=list(data_ob.keys()),\n",
    "                       data_s1= OBook['bid_size'],\n",
    "                       data_s2= OBook['ask_size'],\n",
    "                       data_s3= OBook['total_size'])\n",
    "plot_3.show()\n"
   ]
  },
  {
   "cell_type": "markdown",
   "metadata": {},
   "source": [
    "## <font color= #6B6B6B> 5.2 Results of another proces </font>"
   ]
  },
  {
   "cell_type": "markdown",
   "metadata": {},
   "source": [
    "<br>"
   ]
  },
  {
   "cell_type": "code",
   "execution_count": null,
   "metadata": {},
   "outputs": [],
   "source": [
    "PTrades= fun2.f_publictrades_metrics(pt_data=pt_data)\n"
   ]
  },
  {
   "cell_type": "code",
   "execution_count": null,
   "metadata": {},
   "outputs": [],
   "source": [
    "metricB1 = pd.DataFrame(PTrades['Buy_tt'])\n",
    "print(f\"Buy Trades Count:{metricB1}\")"
   ]
  },
  {
   "cell_type": "code",
   "execution_count": null,
   "metadata": {},
   "outputs": [],
   "source": [
    "metricB2 = pd.DataFrame(PTrades['Sell_tt'])\n",
    "print(f\"Sell Trades Count:{metricB2}\")"
   ]
  },
  {
   "cell_type": "code",
   "execution_count": null,
   "metadata": {},
   "outputs": [],
   "source": [
    "metricB3 = pd.DataFrame(PTrades['Total_trade'])\n",
    "print(f\"Total Trade:{metricB3}\")"
   ]
  },
  {
   "cell_type": "code",
   "execution_count": null,
   "metadata": {},
   "outputs": [],
   "source": [
    "metricB4 = pd.DataFrame(PTrades['Diff'])\n",
    "print(f\"Difference in Trade Count:{metricB4}\")"
   ]
  },
  {
   "cell_type": "code",
   "execution_count": null,
   "metadata": {},
   "outputs": [],
   "source": [
    "metricB5 = pd.DataFrame(PTrades['OHLC'])\n",
    "print(f\"OHLC:{metricB5}\")"
   ]
  },
  {
   "cell_type": "markdown",
   "metadata": {},
   "source": [
    "# <font color= #6B6B6B> <font size = 6> 6. References </font>"
   ]
  },
  {
   "cell_type": "markdown",
   "metadata": {},
   "source": [
    "<hr style=\"border:0.02in solid gray\"> </hr>"
   ]
  },
  {
   "cell_type": "markdown",
   "metadata": {},
   "source": [
    "- Kraken data\n",
    "- BTC-USDT data trades\n"
   ]
  },
  {
   "cell_type": "markdown",
   "metadata": {},
   "source": [
    "[1] Munnoz, 2020. Python project template. https://github.com/iffranciscome/python-project. (2021)."
   ]
  },
  {
   "cell_type": "markdown",
   "metadata": {},
   "source": [
    "<br>"
   ]
  }
 ],
 "metadata": {
  "kernelspec": {
   "display_name": "Python 3 (ipykernel)",
   "language": "python",
   "name": "python3"
  },
  "language_info": {
   "codemirror_mode": {
    "name": "ipython",
    "version": 3
   },
   "file_extension": ".py",
   "mimetype": "text/x-python",
   "name": "python",
   "nbconvert_exporter": "python",
   "pygments_lexer": "ipython3",
   "version": "3.9.7"
  }
 },
 "nbformat": 4,
 "nbformat_minor": 4
}
